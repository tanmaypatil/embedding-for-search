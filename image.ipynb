{
 "cells": [
  {
   "cell_type": "code",
   "execution_count": null,
   "id": "b839370a-35f7-4a06-9ac5-9e3df8fbebb4",
   "metadata": {},
   "outputs": [],
   "source": [
    "import sys \n",
    "sys.path.append(\"embedding-for-search\")\n",
    "from readProp import *"
   ]
  },
  {
   "cell_type": "code",
   "execution_count": null,
   "id": "3af3ecb5-1134-4914-8cf4-b263f021fd66",
   "metadata": {},
   "outputs": [],
   "source": [
    "import os , openai"
   ]
  },
  {
   "cell_type": "code",
   "execution_count": null,
   "id": "ed8cc6e1-d550-4bc2-b961-0ab5e565098e",
   "metadata": {},
   "outputs": [],
   "source": [
    "openai.api_key =  readProperties('OPENAI_KEY')"
   ]
  },
  {
   "cell_type": "code",
   "execution_count": null,
   "id": "dceaeb2e-5043-4061-88b5-aa92921b1670",
   "metadata": {},
   "outputs": [],
   "source": [
    "response = openai.Image.create(\n",
    "  prompt=\"a white siamese cat\",\n",
    "  n=1,\n",
    "  size=\"1024x1024\"\n",
    ")\n",
    "image_url = response['data'][0]['url']"
   ]
  },
  {
   "cell_type": "code",
   "execution_count": null,
   "id": "da493bc1-49a6-4e3d-8bfb-e4dbcaf069eb",
   "metadata": {},
   "outputs": [],
   "source": [
    "print(image_url)"
   ]
  },
  {
   "cell_type": "code",
   "execution_count": null,
   "id": "e130fee7-2f1a-4a47-add6-ba874e864d92",
   "metadata": {},
   "outputs": [],
   "source": [
    "!pip install matplotlib\n",
    "!pip install Pillow"
   ]
  },
  {
   "cell_type": "code",
   "execution_count": null,
   "id": "611880e5-a98a-4945-85b2-1b5cd39ae526",
   "metadata": {},
   "outputs": [],
   "source": [
    "from PIL import Image\n",
    "import matplotlib.pyplot as plt"
   ]
  },
  {
   "cell_type": "code",
   "execution_count": null,
   "id": "9a656a2f-83dd-4402-9dc2-92f68d52048a",
   "metadata": {},
   "outputs": [],
   "source": [
    "from PIL import Image"
   ]
  },
  {
   "cell_type": "code",
   "execution_count": null,
   "id": "17c3492e-457e-474d-8440-19d72ad84508",
   "metadata": {},
   "outputs": [],
   "source": [
    "img = Image.open(image_url)"
   ]
  },
  {
   "cell_type": "code",
   "execution_count": null,
   "id": "77424629-5285-48a2-96e8-0b867f373b58",
   "metadata": {},
   "outputs": [],
   "source": [
    "from IPython.display import Image"
   ]
  },
  {
   "cell_type": "code",
   "execution_count": null,
   "id": "3ea075b7-2b8c-47ac-a1f8-468512396f1d",
   "metadata": {},
   "outputs": [],
   "source": [
    "Image(image_url,width=300, height=300)"
   ]
  },
  {
   "cell_type": "code",
   "execution_count": null,
   "id": "ab629491-bbec-4143-b5a1-e4d45f8856e0",
   "metadata": {},
   "outputs": [],
   "source": [
    "import requests"
   ]
  },
  {
   "cell_type": "code",
   "execution_count": null,
   "id": "a484d895-4b68-4c52-90fb-ed34a9355664",
   "metadata": {},
   "outputs": [],
   "source": [
    "import IPython.display as Disp"
   ]
  },
  {
   "cell_type": "code",
   "execution_count": null,
   "id": "5f8082f5-d088-4c9d-9b80-a6cd3654020d",
   "metadata": {},
   "outputs": [],
   "source": [
    "Disp.Image(requests.get(image_url).content)"
   ]
  },
  {
   "cell_type": "code",
   "execution_count": null,
   "id": "df75c441-ad5c-4d78-a060-e13170b07565",
   "metadata": {},
   "outputs": [],
   "source": [
    "response = openai.Image.create(\n",
    "  prompt=\"marketing campaign for selling to the indian bank for lightening quick international payment transfer\",\n",
    "  n=1,\n",
    "  size=\"1024x1024\"\n",
    ")\n",
    "image_url = response['data'][0]['url']"
   ]
  },
  {
   "cell_type": "code",
   "execution_count": null,
   "id": "e7adc7a6-7934-4feb-a3ae-7c38675d97dd",
   "metadata": {},
   "outputs": [],
   "source": [
    "print(image_url)"
   ]
  },
  {
   "cell_type": "code",
   "execution_count": null,
   "id": "76de893a-c8e0-455b-bc85-8bc4f3c92bc7",
   "metadata": {},
   "outputs": [],
   "source": [
    "response = openai.Image.create(\n",
    "  prompt=\"marketing campaign for selling to payment software for indian banks\",\n",
    "  n=1,\n",
    "  size=\"1024x1024\"\n",
    ")\n",
    "image_url = response['data'][0]['url']"
   ]
  },
  {
   "cell_type": "code",
   "execution_count": null,
   "id": "49f60104-f65d-4c24-9445-5561bc1d579b",
   "metadata": {},
   "outputs": [],
   "source": [
    "print(image_url)"
   ]
  },
  {
   "cell_type": "code",
   "execution_count": null,
   "id": "173a7ff7-f89d-4889-b4ac-80645a7529eb",
   "metadata": {},
   "outputs": [],
   "source": [
    "Disp.Image(requests.get(image_url).content)"
   ]
  },
  {
   "cell_type": "code",
   "execution_count": null,
   "id": "9341ccff-e5b7-4caf-a29b-2639ea2c7029",
   "metadata": {},
   "outputs": [],
   "source": [
    "response = openai.Image.create(\n",
    "  prompt=\"marketing industry event for payment software\",\n",
    "  size=\"1024x1024\"\n",
    ")\n",
    "image_url = response['data'][0]['url']"
   ]
  },
  {
   "cell_type": "code",
   "execution_count": null,
   "id": "79cb9d06-21f4-4053-b10b-9642fe9de94f",
   "metadata": {},
   "outputs": [],
   "source": [
    "Disp.Image(requests.get(image_url).content)"
   ]
  },
  {
   "cell_type": "code",
   "execution_count": null,
   "id": "ba4eac19-5f35-4e44-857a-efc7c4721787",
   "metadata": {},
   "outputs": [],
   "source": [
    "response = openai.Image.create(\n",
    "  prompt=\"photo of A currency note of israel and A currency note of india shaking hand\",\n",
    "  size=\"1024x1024\"\n",
    ")\n",
    "image_url = response['data'][0]['url']\n",
    "Disp.Image(requests.get(image_url).content)"
   ]
  },
  {
   "cell_type": "code",
   "execution_count": null,
   "id": "9b21179b-f787-4a11-81b3-c96eee85c51c",
   "metadata": {},
   "outputs": [],
   "source": []
  },
  {
   "cell_type": "code",
   "execution_count": null,
   "id": "695b41fb-486e-490a-b453-6c7ec873fccb",
   "metadata": {},
   "outputs": [],
   "source": [
    "response = openai.Image.create(\n",
    "  prompt=\"photo of A currency note of israel and currency note of india shaking hand  \",\n",
    "  size=\"1024x1024\"\n",
    ")\n",
    "image_url = response['data'][0]['url']\n"
   ]
  },
  {
   "cell_type": "code",
   "execution_count": null,
   "id": "a3929b3d-762a-46c8-8fae-66069b265458",
   "metadata": {},
   "outputs": [],
   "source": [
    "import requests"
   ]
  },
  {
   "cell_type": "code",
   "execution_count": null,
   "id": "fd6dd8be-6cee-424d-98c0-69844626623d",
   "metadata": {},
   "outputs": [],
   "source": [
    "import IPython.display as Disp"
   ]
  },
  {
   "cell_type": "code",
   "execution_count": null,
   "id": "30674924-060e-4732-8a5d-5496c928f3d6",
   "metadata": {},
   "outputs": [],
   "source": [
    "image_url = response['data'][0]['url']\n",
    "Disp.Image(requests.get(image_url).content)"
   ]
  },
  {
   "cell_type": "code",
   "execution_count": null,
   "id": "e07dfc08-c194-4d82-a5bb-55527deb230c",
   "metadata": {},
   "outputs": [],
   "source": []
  }
 ],
 "metadata": {
  "kernelspec": {
   "display_name": "Python 3 (ipykernel)",
   "language": "python",
   "name": "python3"
  },
  "language_info": {
   "codemirror_mode": {
    "name": "ipython",
    "version": 3
   },
   "file_extension": ".py",
   "mimetype": "text/x-python",
   "name": "python",
   "nbconvert_exporter": "python",
   "pygments_lexer": "ipython3",
   "version": "3.9.13"
  }
 },
 "nbformat": 4,
 "nbformat_minor": 5
}
