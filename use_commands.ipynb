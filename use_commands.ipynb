{
 "cells": [
  {
   "cell_type": "code",
   "execution_count": 1,
   "id": "b7143b8f-d4d1-4668-b4b1-3988ede3edb5",
   "metadata": {},
   "outputs": [],
   "source": [
    "p = [ 1, 2 ,3]"
   ]
  },
  {
   "cell_type": "code",
   "execution_count": 2,
   "id": "43b45b1d-4ec9-4a8e-aed9-000c19729673",
   "metadata": {},
   "outputs": [
    {
     "name": "stdout",
     "output_type": "stream",
     "text": [
      "3\n"
     ]
    }
   ],
   "source": [
    "print(len(p))"
   ]
  },
  {
   "cell_type": "code",
   "execution_count": 4,
   "id": "b53fe0b2-de4a-4c68-9402-dd7d4f2e1f8a",
   "metadata": {},
   "outputs": [],
   "source": [
    "  def add(a,b):\n",
    "    c = a + b\n",
    "    return c"
   ]
  },
  {
   "cell_type": "code",
   "execution_count": null,
   "id": "249f2ecc-a18b-412e-8c6a-6ece9978ef9b",
   "metadata": {},
   "outputs": [],
   "source": []
  },
  {
   "cell_type": "code",
   "execution_count": 5,
   "id": "25b344d0-cfcd-4226-99ad-8e82aa1507fb",
   "metadata": {},
   "outputs": [
    {
     "name": "stdout",
     "output_type": "stream",
     "text": [
      "11\n"
     ]
    }
   ],
   "source": [
    "print(add(5,6))"
   ]
  },
  {
   "cell_type": "code",
   "execution_count": 6,
   "id": "b245c6f6-c095-4322-a44b-2c17663f0182",
   "metadata": {},
   "outputs": [],
   "source": [
    "import os"
   ]
  },
  {
   "cell_type": "code",
   "execution_count": 7,
   "id": "305a612f-7d7f-49cd-87e3-037fe02ea01e",
   "metadata": {},
   "outputs": [],
   "source": [
    "%config IPCompleter.greedy=True"
   ]
  },
  {
   "cell_type": "code",
   "execution_count": 8,
   "id": "80cd8c2d-8bf2-47b7-a604-a1c6f0b7590d",
   "metadata": {},
   "outputs": [
    {
     "name": "stdout",
     "output_type": "stream",
     "text": [
      "C:\\Users\\u725561\\openai\n"
     ]
    }
   ],
   "source": [
    "print(os.getcwd())"
   ]
  },
  {
   "cell_type": "code",
   "execution_count": 14,
   "id": "467baba1-07a2-4219-8748-e1392b0b082e",
   "metadata": {},
   "outputs": [],
   "source": [
    "from jproperties import Properties"
   ]
  },
  {
   "cell_type": "code",
   "execution_count": 16,
   "id": "6c877bcb-7aba-4853-9578-02b206b5640b",
   "metadata": {},
   "outputs": [],
   "source": [
    "from readProp import * "
   ]
  },
  {
   "cell_type": "code",
   "execution_count": 18,
   "id": "5998b568-b8ba-4a40-802a-4eddddca60ef",
   "metadata": {},
   "outputs": [
    {
     "name": "stdout",
     "output_type": "stream",
     "text": [
      "Database User: SCOTT\n"
     ]
    },
    {
     "data": {
      "text/plain": [
       "'SCOTT'"
      ]
     },
     "execution_count": 18,
     "metadata": {},
     "output_type": "execute_result"
    }
   ],
   "source": [
    "read_properties(\"DB_USER\")"
   ]
  },
  {
   "cell_type": "code",
   "execution_count": 22,
   "id": "1fe7a49f-8e71-4232-9e05-7c3fc621f2d9",
   "metadata": {},
   "outputs": [
    {
     "name": "stdout",
     "output_type": "stream",
     "text": [
      "Collecting symbex\n",
      "  Obtaining dependency information for symbex from https://files.pythonhosted.org/packages/b7/2f/72613fe3a428a9d2a3190e36b8c0d6586cb4b1196b90a7cd39516f5e7ccd/symbex-1.4-py3-none-any.whl.metadata\n",
      "  Downloading symbex-1.4-py3-none-any.whl.metadata (21 kB)\n",
      "Requirement already satisfied: click in c:\\users\\u725561\\appdata\\local\\programs\\python\\python39\\lib\\site-packages (from symbex) (8.1.7)\n",
      "Requirement already satisfied: colorama in c:\\users\\u725561\\appdata\\local\\programs\\python\\python39\\lib\\site-packages (from click->symbex) (0.4.6)\n",
      "Downloading symbex-1.4-py3-none-any.whl (20 kB)\n",
      "Installing collected packages: symbex\n",
      "Successfully installed symbex-1.4\n"
     ]
    }
   ],
   "source": [
    "!pip install symbex"
   ]
  },
  {
   "cell_type": "code",
   "execution_count": 24,
   "id": "af4ca021-9339-42e2-8b46-b5792e7613dc",
   "metadata": {},
   "outputs": [
    {
     "name": "stdout",
     "output_type": "stream",
     "text": [
      "# File: readProp.py Line: 3\n",
      "def read_properties(key):\n",
      "\n",
      "   configs = Properties()\n",
      "\n",
      "   with open('app.properties', 'rb') as config_file:\n",
      "\n",
      "     configs.load(config_file)\n",
      "\n",
      "   print(f'Database User: {configs.get(key).data}') \n",
      "\n",
      "   return configs.get(key).data\n",
      "\n",
      "\n",
      "# File: embedding-for-search\\readProp.py Line: 3\n",
      "def read_properties(key):\n",
      "\n",
      "   configs = Properties()\n",
      "\n",
      "   with open('app.properties', 'rb') as config_file:\n",
      "\n",
      "     configs.load(config_file)\n",
      "\n",
      "   print(f'Database User: {configs.get(key).data}') \n",
      "\n",
      "   return configs.get(key).data\n",
      "\n",
      "\n"
     ]
    }
   ],
   "source": [
    "!symbex read_properties readProp.py"
   ]
  },
  {
   "cell_type": "code",
   "execution_count": 25,
   "id": "bdc477ac-edd5-402e-9bd6-c36fbd30912a",
   "metadata": {},
   "outputs": [
    {
     "name": "stdout",
     "output_type": "stream",
     "text": [
      "# File: embedding-for-search\\readProp.py Line: 3\n",
      "def read_properties(key):\n",
      "\n",
      "   configs = Properties()\n",
      "\n",
      "   with open('app.properties', 'rb') as config_file:\n",
      "\n",
      "     configs.load(config_file)\n",
      "\n",
      "   print(f'Database User: {configs.get(key).data}') \n",
      "\n",
      "   return configs.get(key).data\n",
      "\n",
      "\n"
     ]
    }
   ],
   "source": [
    "!symbex read_properties\n"
   ]
  },
  {
   "cell_type": "code",
   "execution_count": 27,
   "id": "95576130-e963-43dd-acbc-1b3c906e1b2c",
   "metadata": {},
   "outputs": [],
   "source": [
    "import os"
   ]
  },
  {
   "cell_type": "code",
   "execution_count": 30,
   "id": "a1720b1a-510f-4666-9bb9-9094c8e39774",
   "metadata": {},
   "outputs": [
    {
     "name": "stdout",
     "output_type": "stream",
     "text": [
      "[' Volume in drive C is Windows', ' Volume Serial Number is 72B8-CFC6', '', ' Directory of C:\\\\Users\\\\u725561\\\\openai', '', '09/30/2023  04:39 PM    <DIR>          .', '09/30/2023  04:39 PM    <DIR>          ..', '09/30/2023  03:00 PM    <DIR>          .ipynb_checkpoints', '09/30/2023  03:46 PM                13 app.properties', '09/30/2023  03:40 PM    <DIR>          embedding-for-search', '09/30/2023  04:39 PM             7,227 use_commands.ipynb', '09/30/2023  03:25 PM    <DIR>          __pycache__', '               2 File(s)          7,240 bytes', '               5 Dir(s)  47,671,775,232 bytes free', '']\n"
     ]
    }
   ],
   "source": [
    "import os\n",
    "list_of_ls = os.popen(\"dir\").read().split('\\n')\n",
    "print( list_of_ls)"
   ]
  },
  {
   "cell_type": "code",
   "execution_count": 31,
   "id": "146dca98-b472-4617-8951-07916ee5e610",
   "metadata": {},
   "outputs": [
    {
     "name": "stdout",
     "output_type": "stream",
     "text": [
      "# File: embedding-for-search\\readProp.py Line: 3\n",
      "def read_properties(key):\n",
      "\n",
      "   configs = Properties()\n",
      "\n",
      "   with open('app.properties', 'rb') as config_file:\n",
      "\n",
      "     configs.load(config_file)\n",
      "\n",
      "   print(f'Database User: {configs.get(key).data}') \n",
      "\n",
      "   return configs.get(key).data\n",
      "\n",
      "\n",
      "\n"
     ]
    }
   ],
   "source": [
    "import os\n",
    "code = os.popen(\"symbex read_properties\").read()\n",
    "print( code)"
   ]
  },
  {
   "cell_type": "code",
   "execution_count": 35,
   "id": "3a4ce639-4190-4cd9-9195-21a631033c4b",
   "metadata": {},
   "outputs": [],
   "source": [
    "def read_code_str(funcName):\n",
    "  cmdLine = 'symbex '+funcName\n",
    "  code = os.popen(cmdLine).read()\n",
    "  return code\n",
    "\n"
   ]
  },
  {
   "cell_type": "code",
   "execution_count": 37,
   "id": "b7cdae21-9e0f-48d3-a804-8305fdb5a006",
   "metadata": {},
   "outputs": [
    {
     "name": "stdout",
     "output_type": "stream",
     "text": [
      "# File: embedding-for-search\\readProp.py Line: 3\n",
      "def read_properties(key):\n",
      "\n",
      "   configs = Properties()\n",
      "\n",
      "   with open('app.properties', 'rb') as config_file:\n",
      "\n",
      "     configs.load(config_file)\n",
      "\n",
      "   print(f'Database User: {configs.get(key).data}') \n",
      "\n",
      "   return configs.get(key).data\n",
      "\n",
      "\n",
      "\n"
     ]
    }
   ],
   "source": [
    "code=read_code_str('read_properties')\n",
    "print(code)"
   ]
  },
  {
   "cell_type": "raw",
   "id": "2b2d3767-2de2-4614-8663-9118f4108e46",
   "metadata": {},
   "source": [
    "functionName = 'read_properties'\n",
    "print(f\" functionName is {functionName}\")\n",
    "while (functionName != 'end_function') : \n",
    "    print('inside while loop')\n",
    "    functionName = input(\"Enter function name :\")\n",
    "    code = read_code_str(functionName)\n",
    "    print(code) "
   ]
  },
  {
   "cell_type": "code",
   "execution_count": 38,
   "id": "f20c1a45-b919-459d-a002-57cf609a9e88",
   "metadata": {},
   "outputs": [
    {
     "name": "stdout",
     "output_type": "stream",
     "text": [
      " functionName is read_properties\n",
      "inside while loop\n"
     ]
    },
    {
     "name": "stdin",
     "output_type": "stream",
     "text": [
      "Enter function name : end_function\n"
     ]
    },
    {
     "name": "stdout",
     "output_type": "stream",
     "text": [
      "\n"
     ]
    }
   ],
   "source": [
    "functionName = 'read_properties'\n",
    "print(f\" functionName is {functionName}\")\n",
    "while (functionName != 'end_function') : \n",
    "    print('inside while loop')\n",
    "    functionName = input(\"Enter function name :\")\n",
    "    code = read_code_str(functionName)\n",
    "    print(code) "
   ]
  },
  {
   "cell_type": "code",
   "execution_count": 39,
   "id": "0d0ab155-5400-4d6b-8384-b7dbc3423946",
   "metadata": {},
   "outputs": [
    {
     "ename": "ModuleNotFoundError",
     "evalue": "No module named 'limUtil'",
     "output_type": "error",
     "traceback": [
      "\u001b[1;31m---------------------------------------------------------------------------\u001b[0m",
      "\u001b[1;31mModuleNotFoundError\u001b[0m                       Traceback (most recent call last)",
      "Cell \u001b[1;32mIn[39], line 1\u001b[0m\n\u001b[1;32m----> 1\u001b[0m \u001b[38;5;28;01mfrom\u001b[39;00m \u001b[38;5;21;01mlimUtil\u001b[39;00m \u001b[38;5;28;01mimport\u001b[39;00m \u001b[38;5;241m*\u001b[39m\n",
      "\u001b[1;31mModuleNotFoundError\u001b[0m: No module named 'limUtil'"
     ]
    }
   ],
   "source": [
    "from limUtil import *"
   ]
  },
  {
   "cell_type": "code",
   "execution_count": 40,
   "id": "ed9f357f-c3fd-4f0b-bb47-bfff70499d83",
   "metadata": {},
   "outputs": [
    {
     "data": {
      "text/plain": [
       "'C:\\\\Users\\\\u725561\\\\openai'"
      ]
     },
     "execution_count": 40,
     "metadata": {},
     "output_type": "execute_result"
    }
   ],
   "source": [
    "os.getcwd()"
   ]
  },
  {
   "cell_type": "code",
   "execution_count": 41,
   "id": "d7696f31-5d61-47ef-b926-77d0fbe9f715",
   "metadata": {},
   "outputs": [
    {
     "ename": "ModuleNotFoundError",
     "evalue": "No module named 'llmUtil'",
     "output_type": "error",
     "traceback": [
      "\u001b[1;31m---------------------------------------------------------------------------\u001b[0m",
      "\u001b[1;31mModuleNotFoundError\u001b[0m                       Traceback (most recent call last)",
      "Cell \u001b[1;32mIn[41], line 1\u001b[0m\n\u001b[1;32m----> 1\u001b[0m \u001b[38;5;28;01mfrom\u001b[39;00m \u001b[38;5;21;01mllmUtil\u001b[39;00m \u001b[38;5;28;01mimport\u001b[39;00m \u001b[38;5;241m*\u001b[39m\n",
      "\u001b[1;31mModuleNotFoundError\u001b[0m: No module named 'llmUtil'"
     ]
    }
   ],
   "source": [
    "from llmUtil import *"
   ]
  },
  {
   "cell_type": "code",
   "execution_count": 42,
   "id": "95cd128e-9aa2-4acb-a584-9e7165f5592a",
   "metadata": {},
   "outputs": [
    {
     "name": "stdout",
     "output_type": "stream",
     "text": [
      " Volume in drive C is Windows\n",
      " Volume Serial Number is 72B8-CFC6\n",
      "\n",
      " Directory of C:\\Users\\u725561\\openai\n",
      "\n",
      "09/30/2023  06:03 PM    <DIR>          .\n",
      "09/30/2023  06:03 PM    <DIR>          ..\n",
      "09/30/2023  03:00 PM    <DIR>          .ipynb_checkpoints\n",
      "09/30/2023  05:37 PM                78 app.properties\n",
      "09/30/2023  05:40 PM    <DIR>          embedding-for-search\n",
      "09/30/2023  06:03 PM            11,521 use_commands.ipynb\n",
      "09/30/2023  03:25 PM    <DIR>          __pycache__\n",
      "               2 File(s)         11,599 bytes\n",
      "               5 Dir(s)  47,646,187,520 bytes free\n"
     ]
    }
   ],
   "source": [
    "!dir"
   ]
  },
  {
   "cell_type": "code",
   "execution_count": 43,
   "id": "5801c4b8-db21-4a7c-a35d-620e25524fff",
   "metadata": {},
   "outputs": [],
   "source": [
    "import readProp"
   ]
  },
  {
   "cell_type": "code",
   "execution_count": 46,
   "id": "5a1021c1-3d7d-4ea7-b33a-e344c994a50c",
   "metadata": {},
   "outputs": [
    {
     "ename": "ModuleNotFoundError",
     "evalue": "No module named 'llmUtil'",
     "output_type": "error",
     "traceback": [
      "\u001b[1;31m---------------------------------------------------------------------------\u001b[0m",
      "\u001b[1;31mModuleNotFoundError\u001b[0m                       Traceback (most recent call last)",
      "Cell \u001b[1;32mIn[46], line 1\u001b[0m\n\u001b[1;32m----> 1\u001b[0m \u001b[38;5;28;01mimport\u001b[39;00m \u001b[38;5;21;01mllmUtil\u001b[39;00m\n",
      "\u001b[1;31mModuleNotFoundError\u001b[0m: No module named 'llmUtil'"
     ]
    }
   ],
   "source": [
    "import llmUtil"
   ]
  },
  {
   "cell_type": "code",
   "execution_count": 47,
   "id": "155c2c1c-b224-4ff1-85b1-95d60c2627cd",
   "metadata": {},
   "outputs": [
    {
     "ename": "ModuleNotFoundError",
     "evalue": "No module named 'llmUtil'",
     "output_type": "error",
     "traceback": [
      "\u001b[1;31m---------------------------------------------------------------------------\u001b[0m",
      "\u001b[1;31mModuleNotFoundError\u001b[0m                       Traceback (most recent call last)",
      "Cell \u001b[1;32mIn[47], line 1\u001b[0m\n\u001b[1;32m----> 1\u001b[0m \u001b[38;5;28;01mimport\u001b[39;00m \u001b[38;5;21;01mllmUtil\u001b[39;00m\n",
      "\u001b[1;31mModuleNotFoundError\u001b[0m: No module named 'llmUtil'"
     ]
    }
   ],
   "source": [
    "import llmUtil"
   ]
  },
  {
   "cell_type": "code",
   "execution_count": 48,
   "id": "78c07224-6c61-43e2-8c7c-073951facf42",
   "metadata": {},
   "outputs": [
    {
     "ename": "ModuleNotFoundError",
     "evalue": "No module named 'codeUtils'",
     "output_type": "error",
     "traceback": [
      "\u001b[1;31m---------------------------------------------------------------------------\u001b[0m",
      "\u001b[1;31mModuleNotFoundError\u001b[0m                       Traceback (most recent call last)",
      "Cell \u001b[1;32mIn[48], line 1\u001b[0m\n\u001b[1;32m----> 1\u001b[0m \u001b[38;5;28;01mimport\u001b[39;00m \u001b[38;5;21;01mcodeUtils\u001b[39;00m\n",
      "\u001b[1;31mModuleNotFoundError\u001b[0m: No module named 'codeUtils'"
     ]
    }
   ],
   "source": [
    "import codeUtils"
   ]
  },
  {
   "cell_type": "code",
   "execution_count": null,
   "id": "1a1e53e5-5e5e-42cf-a93d-33babe7a6403",
   "metadata": {},
   "outputs": [],
   "source": []
  }
 ],
 "metadata": {
  "kernelspec": {
   "display_name": "Python 3 (ipykernel)",
   "language": "python",
   "name": "python3"
  },
  "language_info": {
   "codemirror_mode": {
    "name": "ipython",
    "version": 3
   },
   "file_extension": ".py",
   "mimetype": "text/x-python",
   "name": "python",
   "nbconvert_exporter": "python",
   "pygments_lexer": "ipython3",
   "version": "3.9.13"
  }
 },
 "nbformat": 4,
 "nbformat_minor": 5
}
