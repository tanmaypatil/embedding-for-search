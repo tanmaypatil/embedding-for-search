{
 "cells": [
  {
   "cell_type": "code",
   "execution_count": null,
   "id": "8799896a-8f26-48ca-b5a6-e37564ef0021",
   "metadata": {},
   "outputs": [],
   "source": [
    "import os"
   ]
  },
  {
   "cell_type": "code",
   "execution_count": null,
   "id": "6407b97e-f89d-40d0-ab5e-2b1a0dc020d8",
   "metadata": {},
   "outputs": [],
   "source": [
    "os.getcwd()"
   ]
  },
  {
   "cell_type": "code",
   "execution_count": null,
   "id": "39b73c8a-af3d-467e-a6fb-61246fe65d44",
   "metadata": {},
   "outputs": [],
   "source": [
    "import llmUtil"
   ]
  },
  {
   "cell_type": "code",
   "execution_count": null,
   "id": "498a4cfc-3d71-4732-ad7b-78db321c2492",
   "metadata": {},
   "outputs": [],
   "source": [
    "import sqlite_utils"
   ]
  },
  {
   "cell_type": "code",
   "execution_count": null,
   "id": "e8ccd578-5c5b-437d-b48f-9fe0df97fe05",
   "metadata": {},
   "outputs": [],
   "source": [
    " import llm"
   ]
  },
  {
   "cell_type": "code",
   "execution_count": null,
   "id": "de3077aa-8dd3-4db6-84ad-3a6872bf3d78",
   "metadata": {},
   "outputs": [],
   "source": [
    "from codeUtils import *"
   ]
  },
  {
   "cell_type": "code",
   "execution_count": null,
   "id": "5abfe884-e887-49e1-bcf9-f64770fcb09e",
   "metadata": {},
   "outputs": [],
   "source": [
    "import readProp"
   ]
  },
  {
   "cell_type": "code",
   "execution_count": null,
   "id": "f063f241-c6bf-45cb-bea6-834607574f28",
   "metadata": {},
   "outputs": [],
   "source": [
    "import sys"
   ]
  },
  {
   "cell_type": "code",
   "execution_count": null,
   "id": "f0206661-64e3-46d4-8808-0fbcf15762b1",
   "metadata": {},
   "outputs": [],
   "source": [
    "sys.path.append('.\\embedding-for-search')"
   ]
  },
  {
   "cell_type": "code",
   "execution_count": null,
   "id": "31f3c8fe-aeb8-49cc-b6d4-d0bc69f18eb5",
   "metadata": {},
   "outputs": [],
   "source": []
  },
  {
   "cell_type": "code",
   "execution_count": null,
   "id": "71f63324-faa5-44f3-88ff-31454f82435c",
   "metadata": {},
   "outputs": [],
   "source": [
    "x = readProperties('DB_USER')"
   ]
  },
  {
   "cell_type": "code",
   "execution_count": null,
   "id": "df421abd-febd-4e10-aed4-d2310c21662e",
   "metadata": {},
   "outputs": [],
   "source": [
    "import readProp"
   ]
  },
  {
   "cell_type": "code",
   "execution_count": null,
   "id": "7090dce7-17e0-4330-bead-11ca8445c190",
   "metadata": {},
   "outputs": [],
   "source": [
    "x = readProperties('DB_USER')"
   ]
  },
  {
   "cell_type": "code",
   "execution_count": null,
   "id": "9b6150c3-3e03-48e8-a940-4593dbcfe4d2",
   "metadata": {},
   "outputs": [],
   "source": [
    "import importlib"
   ]
  },
  {
   "cell_type": "code",
   "execution_count": null,
   "id": "3cb1bac6-02f4-43d0-8775-5ef07e1a3bef",
   "metadata": {},
   "outputs": [],
   "source": [
    "importlib.reload(readProp)"
   ]
  },
  {
   "cell_type": "code",
   "execution_count": null,
   "id": "1567ee95-2384-4663-a54a-cca875b7cb96",
   "metadata": {},
   "outputs": [],
   "source": [
    "x = readProperties('OPENAPI_KEY')"
   ]
  },
  {
   "cell_type": "code",
   "execution_count": null,
   "id": "3dd73b1d-a68d-4484-b438-edea83c1453d",
   "metadata": {},
   "outputs": [],
   "source": [
    "import llm\n",
    "\n",
    "model = llm.get_model(\"gpt-3.5-turbo\")\n",
    "response = model.prompt(\"Five surprising names for a pet pelican\")\n",
    "print(response.text())"
   ]
  },
  {
   "cell_type": "code",
   "execution_count": null,
   "id": "1cda276c-5c71-42e9-bc0c-39a2d5bff202",
   "metadata": {},
   "outputs": [],
   "source": [
    "import codeUtil"
   ]
  },
  {
   "cell_type": "code",
   "execution_count": null,
   "id": "7a7d75e8-2a16-48fa-9f53-a9bb4c98a1c2",
   "metadata": {},
   "outputs": [],
   "source": [
    "from codeUtils import *"
   ]
  },
  {
   "cell_type": "code",
   "execution_count": null,
   "id": "5a0d2a81-4276-4d57-a489-221ed2156db8",
   "metadata": {},
   "outputs": [],
   "source": [
    "x =readContinueCode()"
   ]
  },
  {
   "cell_type": "code",
   "execution_count": null,
   "id": "558ec73c-8a97-4899-9005-3e6311f5e50f",
   "metadata": {},
   "outputs": [],
   "source": [
    "importlib.reload(codeUtils)"
   ]
  },
  {
   "cell_type": "code",
   "execution_count": null,
   "id": "205a87ae-2198-46ed-a7a5-d8460b9ca8ab",
   "metadata": {},
   "outputs": [],
   "source": [
    "x =readContinueCode()"
   ]
  },
  {
   "cell_type": "code",
   "execution_count": null,
   "id": "965501f0-c2cd-440b-9e33-00125f585225",
   "metadata": {},
   "outputs": [],
   "source": []
  }
 ],
 "metadata": {
  "kernelspec": {
   "display_name": "Python 3 (ipykernel)",
   "language": "python",
   "name": "python3"
  },
  "language_info": {
   "codemirror_mode": {
    "name": "ipython",
    "version": 3
   },
   "file_extension": ".py",
   "mimetype": "text/x-python",
   "name": "python",
   "nbconvert_exporter": "python",
   "pygments_lexer": "ipython3",
   "version": "3.9.13"
  }
 },
 "nbformat": 4,
 "nbformat_minor": 5
}
