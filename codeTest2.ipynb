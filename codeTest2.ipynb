{
 "cells": [
  {
   "cell_type": "code",
   "execution_count": null,
   "id": "52a79fe6-0a5e-4b69-9204-aa8ff6d2747f",
   "metadata": {},
   "outputs": [],
   "source": [
    "from codeUtils import *"
   ]
  },
  {
   "cell_type": "code",
   "execution_count": null,
   "id": "7c97582b-bf02-4472-b167-b070692e3f5d",
   "metadata": {},
   "outputs": [],
   "source": [
    "import sys \n",
    "sys.path.append('embedding-for-search')"
   ]
  },
  {
   "cell_type": "code",
   "execution_count": null,
   "id": "288c6390-6a86-4595-b2d2-2777f6a0a6e1",
   "metadata": {},
   "outputs": [],
   "source": [
    "from codeUtils import *"
   ]
  },
  {
   "cell_type": "code",
   "execution_count": null,
   "id": "0bacf35c-312c-43d4-b0bd-20a2c3c23611",
   "metadata": {},
   "outputs": [],
   "source": [
    "readContinueCode()"
   ]
  },
  {
   "cell_type": "code",
   "execution_count": null,
   "id": "33ee26ba-afad-4b2e-acd8-7ca6eda4c00a",
   "metadata": {},
   "outputs": [],
   "source": []
  }
 ],
 "metadata": {
  "kernelspec": {
   "display_name": "Python 3 (ipykernel)",
   "language": "python",
   "name": "python3"
  },
  "language_info": {
   "codemirror_mode": {
    "name": "ipython",
    "version": 3
   },
   "file_extension": ".py",
   "mimetype": "text/x-python",
   "name": "python",
   "nbconvert_exporter": "python",
   "pygments_lexer": "ipython3",
   "version": "3.9.13"
  }
 },
 "nbformat": 4,
 "nbformat_minor": 5
}
