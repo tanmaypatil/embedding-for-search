{
 "cells": [
  {
   "cell_type": "code",
   "execution_count": 3,
   "id": "52a79fe6-0a5e-4b69-9204-aa8ff6d2747f",
   "metadata": {},
   "outputs": [
    {
     "ename": "ModuleNotFoundError",
     "evalue": "No module named 'codeUtils'",
     "output_type": "error",
     "traceback": [
      "\u001b[1;31m---------------------------------------------------------------------------\u001b[0m",
      "\u001b[1;31mModuleNotFoundError\u001b[0m                       Traceback (most recent call last)",
      "Cell \u001b[1;32mIn[3], line 1\u001b[0m\n\u001b[1;32m----> 1\u001b[0m \u001b[38;5;28;01mfrom\u001b[39;00m \u001b[38;5;21;01mcodeUtils\u001b[39;00m \u001b[38;5;28;01mimport\u001b[39;00m \u001b[38;5;241m*\u001b[39m\n",
      "\u001b[1;31mModuleNotFoundError\u001b[0m: No module named 'codeUtils'"
     ]
    }
   ],
   "source": [
    "from codeUtils import *"
   ]
  },
  {
   "cell_type": "code",
   "execution_count": 4,
   "id": "7c97582b-bf02-4472-b167-b070692e3f5d",
   "metadata": {},
   "outputs": [],
   "source": [
    "import sys \n",
    "sys.path.append('embedding-for-search')"
   ]
  },
  {
   "cell_type": "code",
   "execution_count": 5,
   "id": "288c6390-6a86-4595-b2d2-2777f6a0a6e1",
   "metadata": {},
   "outputs": [],
   "source": [
    "from codeUtils import *"
   ]
  },
  {
   "cell_type": "code",
   "execution_count": 6,
   "id": "0bacf35c-312c-43d4-b0bd-20a2c3c23611",
   "metadata": {},
   "outputs": [
    {
     "name": "stdout",
     "output_type": "stream",
     "text": [
      "inside while loop\n"
     ]
    },
    {
     "name": "stdin",
     "output_type": "stream",
     "text": [
      "Enter function name : checkSimilar\n"
     ]
    },
    {
     "name": "stdout",
     "output_type": "stream",
     "text": [
      "# File: embedding-for-search\\llmUtil.py Line: 16\n",
      "def checkSimilar(collection : llm.Collection , searchStr : str) :\n",
      "\n",
      "  entries = collection.similar(searchStr,number=5) \n",
      "\n",
      "  for entry in entries:\n",
      "\n",
      "    print(entry.id , entry.content,entry.score)\n",
      "\n",
      "  return entries\n",
      "\n",
      "\n",
      "\n",
      "inside while loop\n"
     ]
    },
    {
     "name": "stdin",
     "output_type": "stream",
     "text": [
      "Enter function name : getCollectionToEmbed\n"
     ]
    },
    {
     "name": "stdout",
     "output_type": "stream",
     "text": [
      "# File: embedding-for-search\\llmUtil.py Line: 6\n",
      "def getCollectionToEmbed(dbName,modelName):\n",
      "\n",
      "  db = sqlite_utils.Database(dbName)\n",
      "\n",
      "  embedding_model = llm.get_embedding_model(modelName)\n",
      "\n",
      "  embedding_model.key = readProperties('OPENAPI_KEY')\n",
      "\n",
      "  collection = llm.Collection(\"FFF2\", db, model=embedding_model)\n",
      "\n",
      "  return collection\n",
      "\n",
      "\n",
      "\n",
      "inside while loop\n"
     ]
    },
    {
     "name": "stdin",
     "output_type": "stream",
     "text": [
      "Enter function name : end_function\n"
     ]
    },
    {
     "name": "stdout",
     "output_type": "stream",
     "text": [
      "\n"
     ]
    }
   ],
   "source": [
    "readContinueCode()"
   ]
  },
  {
   "cell_type": "code",
   "execution_count": null,
   "id": "33ee26ba-afad-4b2e-acd8-7ca6eda4c00a",
   "metadata": {},
   "outputs": [],
   "source": []
  }
 ],
 "metadata": {
  "kernelspec": {
   "display_name": "Python 3 (ipykernel)",
   "language": "python",
   "name": "python3"
  },
  "language_info": {
   "codemirror_mode": {
    "name": "ipython",
    "version": 3
   },
   "file_extension": ".py",
   "mimetype": "text/x-python",
   "name": "python",
   "nbconvert_exporter": "python",
   "pygments_lexer": "ipython3",
   "version": "3.9.13"
  }
 },
 "nbformat": 4,
 "nbformat_minor": 5
}
