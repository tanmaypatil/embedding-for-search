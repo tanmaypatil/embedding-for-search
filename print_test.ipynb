{
 "cells": [
  {
   "cell_type": "code",
   "execution_count": 4,
   "id": "63406d00-fa16-49f3-855d-71caa1d364d2",
   "metadata": {},
   "outputs": [],
   "source": [
    "import sys \n",
    "sys.path.append(\"embedding-for-search\")\n",
    "from print_test import *"
   ]
  },
  {
   "cell_type": "code",
   "execution_count": 6,
   "id": "2226e141-eeba-4b62-ac33-2709597296b6",
   "metadata": {},
   "outputs": [
    {
     "name": "stdout",
     "output_type": "stream",
     "text": [
      "\u001b[92m\n",
      "[assistant]\n",
      "what are best banks in india\n"
     ]
    }
   ],
   "source": [
    "messages = []\n",
    "message = {\n",
    "    \"role\" : \"assistant\",\n",
    "    \"content\" : \"what are best banks in india\",\n",
    "    \"name\" : \"bot\"\n",
    "}\n",
    "messages.append(message)\n",
    "print_messages(messages=messages)"
   ]
  },
  {
   "cell_type": "code",
   "execution_count": 7,
   "id": "39cf2089-eab4-4632-9e41-f3d8765f466b",
   "metadata": {},
   "outputs": [
    {
     "name": "stdout",
     "output_type": "stream",
     "text": [
      "\u001b[92m\n",
      "[assistant]\n",
      "you are a great sales assistant, and is able to look at data and has more than 10 years of looking at banking system \n"
     ]
    }
   ],
   "source": [
    "messages = []\n",
    "message = {\n",
    "    \"role\" : \"assistant\",\n",
    "    \"content\" : \"you are a great sales assistant, and is able to look at data and has more than 10 years of looking at banking system \",\n",
    "    \"name\" : \"bot\"\n",
    "}\n",
    "messages.append(message)\n",
    "print_messages(messages=messages)"
   ]
  },
  {
   "cell_type": "code",
   "execution_count": null,
   "id": "0068521e-974c-4c93-86f8-a7c818eac8b2",
   "metadata": {},
   "outputs": [],
   "source": []
  }
 ],
 "metadata": {
  "kernelspec": {
   "display_name": "Python 3 (ipykernel)",
   "language": "python",
   "name": "python3"
  },
  "language_info": {
   "codemirror_mode": {
    "name": "ipython",
    "version": 3
   },
   "file_extension": ".py",
   "mimetype": "text/x-python",
   "name": "python",
   "nbconvert_exporter": "python",
   "pygments_lexer": "ipython3",
   "version": "3.9.13"
  }
 },
 "nbformat": 4,
 "nbformat_minor": 5
}
