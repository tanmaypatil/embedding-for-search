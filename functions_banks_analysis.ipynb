{
 "cells": [
  {
   "cell_type": "code",
   "execution_count": null,
   "id": "13ec6cda-878d-4e11-9293-7d359e98f396",
   "metadata": {},
   "outputs": [],
   "source": [
    "import sys \n",
    "sys.path.append(\"embedding-for-search\")\n",
    "from readProp import *"
   ]
  },
  {
   "cell_type": "code",
   "execution_count": null,
   "id": "574db9ed-74c6-49d0-bb0a-2652e00789bf",
   "metadata": {},
   "outputs": [],
   "source": [
    "import openai\n",
    "openai.api_key =  readProperties('OPENAI_KEY')"
   ]
  },
  {
   "cell_type": "code",
   "execution_count": null,
   "id": "ae654e4a-6f09-4211-9057-0a542a6a7ed8",
   "metadata": {},
   "outputs": [],
   "source": [
    "import os"
   ]
  },
  {
   "cell_type": "code",
   "execution_count": null,
   "id": "a2321ebe-84e9-44d0-9e24-9b787cc67766",
   "metadata": {},
   "outputs": [],
   "source": []
  },
  {
   "cell_type": "code",
   "execution_count": null,
   "id": "01f130fb-3708-4c2c-9c1d-473829be01a5",
   "metadata": {},
   "outputs": [],
   "source": [
    "from openai_funccall import *"
   ]
  },
  {
   "cell_type": "code",
   "execution_count": null,
   "id": "49036edf-436a-4e7c-bc2a-94ddca0c8771",
   "metadata": {},
   "outputs": [],
   "source": [
    "second_response = run_conversation()\n",
    "print(second_response)"
   ]
  },
  {
   "cell_type": "code",
   "execution_count": null,
   "id": "e389a42d-b37c-43af-b92a-c2629537ff08",
   "metadata": {},
   "outputs": [],
   "source": []
  },
  {
   "cell_type": "code",
   "execution_count": null,
   "id": "e7a7d677-ba7b-43c1-87eb-7aaa64dc113c",
   "metadata": {},
   "outputs": [],
   "source": []
  }
 ],
 "metadata": {
  "kernelspec": {
   "display_name": "Python 3 (ipykernel)",
   "language": "python",
   "name": "python3"
  },
  "language_info": {
   "codemirror_mode": {
    "name": "ipython",
    "version": 3
   },
   "file_extension": ".py",
   "mimetype": "text/x-python",
   "name": "python",
   "nbconvert_exporter": "python",
   "pygments_lexer": "ipython3",
   "version": "3.9.13"
  }
 },
 "nbformat": 4,
 "nbformat_minor": 5
}
