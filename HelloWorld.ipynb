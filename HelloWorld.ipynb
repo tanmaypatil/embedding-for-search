{
 "cells": [
  {
   "cell_type": "code",
   "execution_count": null,
   "id": "c86ae40d-5ddb-4ebd-81f1-648c8333b1a5",
   "metadata": {},
   "outputs": [],
   "source": [
    "import sys \n",
    "sys.path.append('embedding-for-search')\n",
    "from readProp import *"
   ]
  },
  {
   "cell_type": "code",
   "execution_count": null,
   "id": "0d2ff916-26b6-469b-adc6-bf6dcb8fd786",
   "metadata": {},
   "outputs": [],
   "source": [
    "import openai"
   ]
  },
  {
   "cell_type": "code",
   "execution_count": null,
   "id": "2792b927-81d2-4d7a-a272-0615154160bd",
   "metadata": {},
   "outputs": [],
   "source": [
    "x = readProperties('OPENAPI_KEY')"
   ]
  },
  {
   "cell_type": "code",
   "execution_count": null,
   "id": "56178588-2933-4063-9d2f-a1c0ba6a28fe",
   "metadata": {},
   "outputs": [],
   "source": [
    "import os\n",
    "import openai\n",
    "\n",
    "# Load your API key from an environment variable or secret management service\n",
    "openai.api_key = x\n",
    "\n",
    "chat_completion = openai.ChatCompletion.create(model=\"gpt-3.5-turbo\", messages=[{\"role\": \"user\", \"content\": \"Hello world\"}])"
   ]
  },
  {
   "cell_type": "code",
   "execution_count": null,
   "id": "529f1d66-2fbf-429e-9bf7-b92887564b9d",
   "metadata": {},
   "outputs": [],
   "source": [
    "print(chat_completion)"
   ]
  },
  {
   "cell_type": "code",
   "execution_count": null,
   "id": "884a23a5-944e-4d57-b2a7-a03a41a854fd",
   "metadata": {},
   "outputs": [],
   "source": [
    "from openaiUtil import *"
   ]
  },
  {
   "cell_type": "code",
   "execution_count": null,
   "id": "540bb3d6-6d5e-4bfb-81df-6846dfe81e57",
   "metadata": {},
   "outputs": [],
   "source": [
    "example_function = \"\"\"def readProperties(key):\n",
    "   configs = Properties()\n",
    "   with open('app.properties', 'rb') as config_file:\n",
    "     configs.load(config_file)\n",
    "   print(f'Property Value: {configs.get(key).data}') \n",
    "   return configs.get(key).data\n",
    "\"\"\"\n",
    "\n",
    "unit_tests = unit_tests_from_function(\n",
    "    example_function,\n",
    "    approx_min_cases_to_cover=10,\n",
    "    print_text=True\n",
    ")"
   ]
  },
  {
   "cell_type": "code",
   "execution_count": null,
   "id": "5fd75d31-998d-4d81-b1a2-4cdc195484ae",
   "metadata": {},
   "outputs": [],
   "source": []
  }
 ],
 "metadata": {
  "kernelspec": {
   "display_name": "Python 3 (ipykernel)",
   "language": "python",
   "name": "python3"
  },
  "language_info": {
   "codemirror_mode": {
    "name": "ipython",
    "version": 3
   },
   "file_extension": ".py",
   "mimetype": "text/x-python",
   "name": "python",
   "nbconvert_exporter": "python",
   "pygments_lexer": "ipython3",
   "version": "3.9.13"
  }
 },
 "nbformat": 4,
 "nbformat_minor": 5
}
